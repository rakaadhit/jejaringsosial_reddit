{
  "nbformat": 4,
  "nbformat_minor": 0,
  "metadata": {
    "colab": {
      "name": "Collecting Social Media Data (Reddit).ipynb",
      "provenance": [],
      "collapsed_sections": []
    },
    "kernelspec": {
      "name": "python3",
      "display_name": "Python 3"
    }
  },
  "cells": [
    {
      "cell_type": "code",
      "metadata": {
        "id": "HVzhJ-Dk-qNZ",
        "colab_type": "code",
        "outputId": "1a712e1c-6048-4989-bdd6-ba8c478273a7",
        "colab": {
          "base_uri": "https://localhost:8080/",
          "height": 343
        }
      },
      "source": [
        "pip install praw"
      ],
      "execution_count": 1,
      "outputs": [
        {
          "output_type": "stream",
          "text": [
            "Collecting praw\n",
            "\u001b[?25l  Downloading https://files.pythonhosted.org/packages/f6/df/b42c0a3b86a43a62a46e5b2f07930230ac7719624800a2052218993fb767/praw-6.4.0-py2.py3-none-any.whl (126kB)\n",
            "\u001b[K     |████████████████████████████████| 133kB 5.0MB/s \n",
            "\u001b[?25hCollecting websocket-client>=0.54.0\n",
            "\u001b[?25l  Downloading https://files.pythonhosted.org/packages/29/19/44753eab1fdb50770ac69605527e8859468f3c0fd7dc5a76dd9c4dbd7906/websocket_client-0.56.0-py2.py3-none-any.whl (200kB)\n",
            "\u001b[K     |████████████████████████████████| 204kB 46.5MB/s \n",
            "\u001b[?25hCollecting update-checker>=0.16\n",
            "  Downloading https://files.pythonhosted.org/packages/17/c9/ab11855af164d03be0ff4fddd4c46a5bd44799a9ecc1770e01a669c21168/update_checker-0.16-py2.py3-none-any.whl\n",
            "Collecting prawcore<2.0,>=1.0.1\n",
            "  Downloading https://files.pythonhosted.org/packages/76/b5/ce6282dea45cba6f08a30e25d18e0f3d33277e2c9fcbda75644b8dc0089b/prawcore-1.0.1-py2.py3-none-any.whl\n",
            "Requirement already satisfied: six in /usr/local/lib/python3.6/dist-packages (from websocket-client>=0.54.0->praw) (1.12.0)\n",
            "Requirement already satisfied: requests>=2.3.0 in /usr/local/lib/python3.6/dist-packages (from update-checker>=0.16->praw) (2.21.0)\n",
            "Requirement already satisfied: idna<2.9,>=2.5 in /usr/local/lib/python3.6/dist-packages (from requests>=2.3.0->update-checker>=0.16->praw) (2.8)\n",
            "Requirement already satisfied: urllib3<1.25,>=1.21.1 in /usr/local/lib/python3.6/dist-packages (from requests>=2.3.0->update-checker>=0.16->praw) (1.24.3)\n",
            "Requirement already satisfied: certifi>=2017.4.17 in /usr/local/lib/python3.6/dist-packages (from requests>=2.3.0->update-checker>=0.16->praw) (2019.11.28)\n",
            "Requirement already satisfied: chardet<3.1.0,>=3.0.2 in /usr/local/lib/python3.6/dist-packages (from requests>=2.3.0->update-checker>=0.16->praw) (3.0.4)\n",
            "Installing collected packages: websocket-client, update-checker, prawcore, praw\n",
            "Successfully installed praw-6.4.0 prawcore-1.0.1 update-checker-0.16 websocket-client-0.56.0\n"
          ],
          "name": "stdout"
        }
      ]
    },
    {
      "cell_type": "code",
      "metadata": {
        "id": "yGN-Vlk19GEL",
        "colab_type": "code",
        "colab": {}
      },
      "source": [
        "%matplotlib inline\n",
        "\n",
        "import json\n",
        "\n",
        "# For our first piece of code, we need to import the package \n",
        "# that connects to Reddit. Praw is a thin wrapper around reddit's \n",
        "# web APIs and works well\n",
        "\n",
        "import praw\n",
        "\n",
        "# Creating Reddit Application\n",
        "# Now we specify a \"unique\" user agent for our code\n",
        "# This is primarily for identification, I think, and some\n",
        "# user-agents of bad actors might be blocked\n",
        "redditApi = praw.Reddit(client_id='OdpBKZ1utVJw8Q',\n",
        "                        client_secret='KH5zzauulUBG45W-XYeAS5a2EdA',\n",
        "                        user_agent='crisis_informatics_v01')\n"
      ],
      "execution_count": 0,
      "outputs": []
    },
    {
      "cell_type": "code",
      "metadata": {
        "id": "Cq0FZYM9_NTy",
        "colab_type": "code",
        "outputId": "6cfc913c-d6ea-42da-b2a9-4576ec7336c4",
        "colab": {
          "base_uri": "https://localhost:8080/",
          "height": 187
        }
      },
      "source": [
        "#Capturing Reddit Post\n",
        "subreddit = \"worldnews\"\n",
        "\n",
        "targetSub = redditApi.subreddit(subreddit)\n",
        "\n",
        "submissions = targetSub.new(limit=10)\n",
        "for post in submissions:\n",
        "    print(post.title)\n"
      ],
      "execution_count": 4,
      "outputs": [
        {
          "output_type": "stream",
          "text": [
            "BBC News: Trump impeachment: The short, medium and long story\n",
            "Life in Canada’s arctic: Man takes down Christmas tree with rifle, ends up with Charlie Brown tree\n",
            "Hong Kong police freezes HK$70M (US$9M) fund which raises money for protesters in difficulties for 'money laundering'\n",
            "Jailed Uighur Ilham Tohti’s daughter accepts EU top rights prize on behalf of father\n",
            "China announces new tariff exclusions for some U.S. imports\n",
            "Is the Netherlands becoming a narco-state?\n",
            "Watch: Historian Ramachandra Guha, Mid-Interview, Detained By Police [India Protest against CAB]\n",
            "US files WTO appeal against Indian steel after neutralising that very process\n",
            "Putin acknowledges threats posed by climate change\n",
            "U.S. Files a WTO Appeal After Neutralizing That Very Process\n"
          ],
          "name": "stdout"
        }
      ]
    },
    {
      "cell_type": "code",
      "metadata": {
        "id": "mwmh2Ksj_XXc",
        "colab_type": "code",
        "outputId": "7de30f94-44a3-417c-bcef-885413122ee9",
        "colab": {
          "base_uri": "https://localhost:8080/",
          "height": 122
        }
      },
      "source": [
        "#Capturing Reddit Post \"Category\"\n",
        "subreddit = \"worldnews\"\n",
        "\n",
        "targetSub = redditApi.subreddit(subreddit)\n",
        "\n",
        "submissions = targetSub.hot(limit=5)\n",
        "for post in submissions:\n",
        "    print(post.title)"
      ],
      "execution_count": 5,
      "outputs": [
        {
          "output_type": "stream",
          "text": [
            "India has now bulit concentration camps to detain up to 2 Million Muslims India just voted on a bill that strips Muslims of their citizenship\n",
            "Facebook admits to accessing user location data in app even when opted out\n",
            "Trump Impeached for Abuse of Power\n",
            "Donald Trump is expected to become only the third US president to be impeached by the House\n",
            "A rare protest has been held at one of China's most prestigious universities after authorities dropped the phrase \"freedom of thought\" from the school's charter and replaced it with a pledge to follow the Communist Party's leadership.\n"
          ],
          "name": "stdout"
        }
      ]
    },
    {
      "cell_type": "code",
      "metadata": {
        "id": "KjhZc2wB_hut",
        "colab_type": "code",
        "outputId": "8b6abc49-b199-4c87-c67a-52c22332f16d",
        "colab": {
          "base_uri": "https://localhost:8080/",
          "height": 207
        }
      },
      "source": [
        "#Capturing Reddit Post \"Multiple\"\n",
        "subreddit = \"worldnews+news\"\n",
        "\n",
        "targetSub = redditApi.subreddit(subreddit)\n",
        "submissions = targetSub.new(limit=10)\n",
        "for post in submissions:\n",
        "    print(post.title, post.author)\n"
      ],
      "execution_count": 6,
      "outputs": [
        {
          "output_type": "stream",
          "text": [
            "BBC News: Trump impeachment: The short, medium and long story a5myth\n",
            "Life in Canada’s arctic: Man takes down Christmas tree with rifle, ends up with Charlie Brown tree Norcan987\n",
            "Hong Kong police freezes HK$70M (US$9M) fund which raises money for protesters in difficulties for 'money laundering' 30624700306247705342\n",
            "Jailed Uighur Ilham Tohti’s daughter accepts EU top rights prize on behalf of father sandy1998123\n",
            "China announces new tariff exclusions for some U.S. imports Purple_Wasabi\n",
            "Is the Netherlands becoming a narco-state? NaadaanBaalak\n",
            "Watch: Historian Ramachandra Guha, Mid-Interview, Detained By Police [India Protest against CAB] shhhhhhhhhh\n",
            "US files WTO appeal against Indian steel after neutralising that very process superminian\n",
            "Putin acknowledges threats posed by climate change newnemo\n",
            "U.S. Files a WTO Appeal After Neutralizing That Very Process superminian\n"
          ],
          "name": "stdout"
        }
      ]
    },
    {
      "cell_type": "code",
      "metadata": {
        "id": "IzGjkjAG_x4Q",
        "colab_type": "code",
        "outputId": "5847e18f-6b9e-4ff6-9bb8-b00252b2bb3a",
        "colab": {
          "base_uri": "https://localhost:8080/",
          "height": 428
        }
      },
      "source": [
        "#Accessing Reddit Comment\n",
        "subreddit = \"worldnews\"\n",
        "\n",
        "breadthCommentCount = 5\n",
        "\n",
        "targetSub = redditApi.subreddit(subreddit)\n",
        "\n",
        "submissions = targetSub.hot(limit=1)\n",
        "\n",
        "for post in submissions:\n",
        "    print (post.title)\n",
        "    \n",
        "    post.comment_limit = breadthCommentCount\n",
        "    \n",
        "    # Get the top few comments\n",
        "    for comment in post.comments.list():\n",
        "        if isinstance(comment, praw.models.MoreComments):\n",
        "            continue\n",
        "        \n",
        "        print (\"---\", comment.name, \"---\")\n",
        "        print (\"\\t\", comment.body)\n",
        "        \n",
        "        for reply in comment.replies.list():\n",
        "            if isinstance(reply, praw.models.MoreComments):\n",
        "                continue\n",
        "            \n",
        "            print (\"\\t\", \"---\", reply.name, \"---\")\n",
        "            print (\"\\t\\t\", reply.body)"
      ],
      "execution_count": 7,
      "outputs": [
        {
          "output_type": "stream",
          "text": [
            "India has now bulit concentration camps to detain up to 2 Million Muslims India just voted on a bill that strips Muslims of their citizenship\n",
            "--- t1_fbcwckz ---\n",
            "\t This is basically Nazi Germany again...... Concentration camps and a bill like the Nurenburg laws of 1935 that strips people of their citizenship.....great!\n",
            "\t --- t1_fbcyiq6 ---\n",
            "\t\t I’m a bit concerned by the number of massive/powerful countries on the side of hate this time. China, India, Russia... this isn’t looking good guys.\n",
            "\t --- t1_fbd4toi ---\n",
            "\t\t If you'll let me put on my foil hat rq...\n",
            "\n",
            "I think it's interesting that the largest single ethno-religious group that will be displaced by climate change and likely compose a majority of the climate refugees is being systematically repressed and dehumanized before anything even starts happening.\n",
            "\t --- t1_fbd63jj ---\n",
            "\t\t 'People learn from history'. Evidently not. The rise of right-wing authoritarians the world over is showing just that. It's been long enough that enough people have forgotten what having men like that in power means because they've had a nice time of it for a bit with some people that tried to make life easier and better for a while. Exceptions of course being China and Russia because it's not like they haven't had exactly those men in power the whole time anyway. Everyone else is just trying to join the party.\n",
            "--- t1_fbcqk2e ---\n",
            "\t I'm confused, the article says most of the people detained were Hindus ? It doesn't say anything about concentration camps built exclusively to hold muslims.\n",
            "--- t1_fbcyiq6 ---\n",
            "\t I’m a bit concerned by the number of massive/powerful countries on the side of hate this time. China, India, Russia... this isn’t looking good guys.\n",
            "\t --- t1_fbd63jj ---\n",
            "\t\t 'People learn from history'. Evidently not. The rise of right-wing authoritarians the world over is showing just that. It's been long enough that enough people have forgotten what having men like that in power means because they've had a nice time of it for a bit with some people that tried to make life easier and better for a while. Exceptions of course being China and Russia because it's not like they haven't had exactly those men in power the whole time anyway. Everyone else is just trying to join the party.\n",
            "--- t1_fbd4toi ---\n",
            "\t If you'll let me put on my foil hat rq...\n",
            "\n",
            "I think it's interesting that the largest single ethno-religious group that will be displaced by climate change and likely compose a majority of the climate refugees is being systematically repressed and dehumanized before anything even starts happening.\n",
            "--- t1_fbd63jj ---\n",
            "\t 'People learn from history'. Evidently not. The rise of right-wing authoritarians the world over is showing just that. It's been long enough that enough people have forgotten what having men like that in power means because they've had a nice time of it for a bit with some people that tried to make life easier and better for a while. Exceptions of course being China and Russia because it's not like they haven't had exactly those men in power the whole time anyway. Everyone else is just trying to join the party.\n"
          ],
          "name": "stdout"
        }
      ]
    }
  ]
}